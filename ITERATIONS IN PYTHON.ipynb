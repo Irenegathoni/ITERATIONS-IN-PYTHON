{
 "cells": [
  {
   "cell_type": "markdown",
   "id": "eedfeaee-894b-4833-8acb-3816dc4a1d2f",
   "metadata": {},
   "source": [
    "### ITERATIONS IN PYTHON\n"
   ]
  },
  {
   "cell_type": "markdown",
   "id": "e54eb422-5866-4944-900b-1ae74dc234dd",
   "metadata": {},
   "source": [
    "### FOR LOOP"
   ]
  },
  {
   "cell_type": "code",
   "execution_count": 1,
   "id": "35ec8b70-11a5-4c40-a501-7c33ac3ead38",
   "metadata": {},
   "outputs": [
    {
     "name": "stdout",
     "output_type": "stream",
     "text": [
      "red\n",
      "green\n",
      "blue\n"
     ]
    }
   ],
   "source": [
    "#list of colors\n",
    "colors=[\"red\",\"green\",\"blue\"]\n",
    "for color in colors:\n",
    "    print(color)"
   ]
  },
  {
   "cell_type": "code",
   "execution_count": 2,
   "id": "534a9f8f-a7b5-4612-b574-c5216951f2ba",
   "metadata": {},
   "outputs": [
    {
     "name": "stdout",
     "output_type": "stream",
     "text": [
      "h\n",
      "e\n",
      "l\n",
      "l\n",
      "o\n"
     ]
    }
   ],
   "source": [
    "#string iteration\n",
    "for letter in \"hello\":\n",
    "    print(letter)"
   ]
  },
  {
   "cell_type": "code",
   "execution_count": 3,
   "id": "ebec08d9-52ce-4333-a785-29b3b0b713b0",
   "metadata": {},
   "outputs": [
    {
     "name": "stdout",
     "output_type": "stream",
     "text": [
      "10\n",
      "20\n",
      "30\n"
     ]
    }
   ],
   "source": [
    "#tuple iteration\n",
    "my_tuple=(10,20,30)\n",
    "for num in my_tuple:\n",
    "    print(num)"
   ]
  },
  {
   "cell_type": "code",
   "execution_count": 4,
   "id": "2873f8b8-fec2-46e0-9b14-b191d0279299",
   "metadata": {},
   "outputs": [
    {
     "name": "stdout",
     "output_type": "stream",
     "text": [
      "0\n",
      "1\n",
      "2\n",
      "3\n",
      "4\n"
     ]
    }
   ],
   "source": [
    "#range iteration\n",
    "#range(n) gives numbers from 0 up to(but not including)n.\n",
    "for i in range(5):\n",
    "    print(i)"
   ]
  },
  {
   "cell_type": "code",
   "execution_count": 5,
   "id": "0dde0597-fb57-4ea2-b618-1920f37e80e8",
   "metadata": {},
   "outputs": [
    {
     "name": "stdout",
     "output_type": "stream",
     "text": [
      "name\n",
      "age\n"
     ]
    }
   ],
   "source": [
    "#dictionary iteration\n",
    "my_dict={\"name\":\"Gathoni\",\"age\":22}\n",
    "\n",
    "for key in my_dict:\n",
    "    print(key)"
   ]
  },
  {
   "cell_type": "code",
   "execution_count": 6,
   "id": "c4616e44-6827-4d42-a586-d257cee5f7d9",
   "metadata": {},
   "outputs": [
    {
     "name": "stdout",
     "output_type": "stream",
     "text": [
      "name : Gathoni\n",
      "age : 22\n"
     ]
    }
   ],
   "source": [
    "#dictionary iteration where we want both key an value\n",
    "my_dict={\"name\":\"Gathoni\",\"age\":22}\n",
    "for key,value in my_dict.items():\n",
    "    print(key,\":\",value)\n",
    "    "
   ]
  },
  {
   "cell_type": "markdown",
   "id": "3806e571-68e0-4cb4-befa-3906e7a58499",
   "metadata": {},
   "source": [
    "### WHILE LOOP"
   ]
  },
  {
   "cell_type": "code",
   "execution_count": 7,
   "id": "677ed3df-b7ed-491d-bf86-bb0a08d576b6",
   "metadata": {},
   "outputs": [
    {
     "name": "stdout",
     "output_type": "stream",
     "text": [
      "Number is 0\n",
      "Number is 1\n",
      "Number is 2\n",
      "Number is 3\n",
      "Number is 4\n"
     ]
    }
   ],
   "source": [
    "count=0\n",
    "while count<5:\n",
    "    print(\"Number is\",count)\n",
    "    count+=1\n",
    "\n"
   ]
  },
  {
   "cell_type": "code",
   "execution_count": 8,
   "id": "73f62b3b-291a-4d72-88cd-ddf6d5f7355f",
   "metadata": {},
   "outputs": [
    {
     "name": "stdout",
     "output_type": "stream",
     "text": [
      "2\n",
      "4\n",
      "6\n",
      "8\n",
      "10\n"
     ]
    }
   ],
   "source": [
    "#print only even numbers from 1 to 10\n",
    "for num in range(1,11):\n",
    "    if num % 2 ==0:\n",
    "        print(num)"
   ]
  },
  {
   "cell_type": "code",
   "execution_count": 9,
   "id": "05e56312-4093-4733-8b08-1c76fc529aaa",
   "metadata": {},
   "outputs": [
    {
     "name": "stdout",
     "output_type": "stream",
     "text": [
      "1\n",
      "3\n",
      "5\n",
      "7\n",
      "9\n"
     ]
    }
   ],
   "source": [
    "#print only odd numbers from 1 to 10\n",
    "for num in range(1,11):\n",
    "    if num % 2==1:\n",
    "        print(num)"
   ]
  },
  {
   "cell_type": "code",
   "execution_count": 10,
   "id": "ff022915-894c-4766-996c-e3cefd0d894e",
   "metadata": {},
   "outputs": [
    {
     "name": "stdout",
     "output_type": "stream",
     "text": [
      "SOLARA\n",
      "INNEST\n",
      "GATHONI\n"
     ]
    }
   ],
   "source": [
    "#turn all names into uppercase\n",
    "names=[\"solara\", \"innest\",\"gathoni\"]\n",
    "\n",
    "for name in names:\n",
    "    print(name.upper())"
   ]
  },
  {
   "cell_type": "code",
   "execution_count": 11,
   "id": "71afa1db-5abb-4709-84b2-632f21961ffa",
   "metadata": {},
   "outputs": [
    {
     "name": "stdout",
     "output_type": "stream",
     "text": [
      "1\n",
      "3\n"
     ]
    }
   ],
   "source": [
    "#break and continue\n",
    "for i in range(10):\n",
    "    if i ==5:\n",
    "        break #stops the loop entirely\n",
    "    if i %2 == 0:\n",
    "        continue #skip even number\n",
    "    print(i)"
   ]
  },
  {
   "cell_type": "markdown",
   "id": "11325e7a-3066-4e63-ac6f-0f7c2e8a48ae",
   "metadata": {},
   "source": [
    "### FUNCTION"
   ]
  },
  {
   "cell_type": "code",
   "execution_count": 17,
   "id": "fc125c4d-6946-4c88-8550-ee501fe518ff",
   "metadata": {},
   "outputs": [
    {
     "name": "stdout",
     "output_type": "stream",
     "text": [
      "Hey Solara!\n",
      "Hey Innest!\n",
      "Hey Gathoni!\n"
     ]
    }
   ],
   "source": [
    "greet_names([\"Solara\",\"Innest\",\"Gathoni\"]) \n",
    "def greet_names(name_list):\n",
    "    for name in name_list:\n",
    "        print(\"Hey\",name +\"!\")\n",
    "     "
   ]
  },
  {
   "cell_type": "code",
   "execution_count": 21,
   "id": "6fce0b29-3ddd-4045-9ae4-fbaea5852187",
   "metadata": {},
   "outputs": [
    {
     "name": "stdout",
     "output_type": "stream",
     "text": [
      "[2, 4, 6]\n"
     ]
    }
   ],
   "source": [
    "def get_even_numbers(numbers):\n",
    "    evens =[]\n",
    "    for num in numbers:\n",
    "        if num % 2==0:\n",
    "            evens.append(num)\n",
    "    return evens  \n",
    "result= get_even_numbers([1,2,3,4,5,6])\n",
    "print(result)\n",
    "    "
   ]
  },
  {
   "cell_type": "code",
   "execution_count": 23,
   "id": "da31ff43-b1d8-4b38-9136-49999510522d",
   "metadata": {},
   "outputs": [
    {
     "name": "stdout",
     "output_type": "stream",
     "text": [
      "crochet\n",
      "crochet\n",
      "crochet\n"
     ]
    }
   ],
   "source": [
    "#looping over arguments\n",
    "repeat_words(\"crochet\",3)\n",
    "def repeat_words(word,times):\n",
    "    for i in range(times):\n",
    "        print(word)\n",
    "         \n",
    "    "
   ]
  },
  {
   "cell_type": "code",
   "execution_count": 25,
   "id": "cfd89650-8704-4999-846d-9b1669f6a0ef",
   "metadata": {},
   "outputs": [],
   "source": [
    "# a little cheat code\n",
    "def function_name(inputs):\n",
    "    # step1: prepare empty basket if needed\n",
    "    result =[]\n",
    "    #step2: loop through inputs\n",
    "    for item in inputs:\n",
    "        #step 3: check something or do something\n",
    "        if condition:\n",
    "            result.append(item)\n",
    "            # give back the result\n",
    "    return result\n",
    "        "
   ]
  },
  {
   "cell_type": "markdown",
   "id": "53c799a8-8820-4f48-8c0e-352d76c78ae7",
   "metadata": {},
   "source": [
    "### EXAMPLES"
   ]
  },
  {
   "cell_type": "code",
   "execution_count": 28,
   "id": "04e51666-25c4-42d5-a530-94546eff0970",
   "metadata": {},
   "outputs": [
    {
     "name": "stdout",
     "output_type": "stream",
     "text": [
      "['banana', 'watermelon']\n"
     ]
    }
   ],
   "source": [
    "#Find fruits with more than 5 letters\n",
    "\n",
    "def long_fruits(fruit_list):\n",
    "    result=[]\n",
    "    for fruit in fruit_list:\n",
    "        if len(fruit) > 5:\n",
    "            result.append(fruit)\n",
    "    return result  \n",
    "print(long_fruits([\"banana\",\"apple\",\"watermelon\",\"kiwi\"]))"
   ]
  },
  {
   "cell_type": "code",
   "execution_count": 29,
   "id": "4b7f9555-585f-437c-bbc7-4afcec975505",
   "metadata": {},
   "outputs": [
    {
     "name": "stdout",
     "output_type": "stream",
     "text": [
      "['HADI KESHO', 'MISSED CALLS', 'ROBBERY', 'FORREST GUMP']\n"
     ]
    }
   ],
   "source": [
    "#function to capitalize song names\n",
    "def cap_songs(songs):\n",
    "    result=[]\n",
    "    for song in songs:\n",
    "        result.append(song.upper())\n",
    "    return result\n",
    "print(cap_songs([\"hadi kesho\",\"missed calls\",\"robbery\",\"forrest gump\"]))"
   ]
  },
  {
   "cell_type": "code",
   "execution_count": 32,
   "id": "72120265-6deb-4e71-b7b2-e4c32e29d63b",
   "metadata": {},
   "outputs": [
    {
     "name": "stdout",
     "output_type": "stream",
     "text": [
      "[2, 4, 6, 8, 10]\n"
     ]
    }
   ],
   "source": [
    "#even numbers\n",
    "def even_numbers(numbers):\n",
    "    evens=[]\n",
    "    for num in numbers:\n",
    "        if num % 2==0:\n",
    "            evens.append(num)\n",
    "    return evens\n",
    "print(even_numbers([1,2,3,4,5,6,7,8,9,10]))"
   ]
  },
  {
   "cell_type": "code",
   "execution_count": 36,
   "id": "8e5499bc-34ab-48c1-9b30-f50968a35da2",
   "metadata": {},
   "outputs": [
    {
     "name": "stdout",
     "output_type": "stream",
     "text": [
      "['beautiful', 'amazing', 'spectacular']\n"
     ]
    }
   ],
   "source": [
    "def letter_words(letters):\n",
    "    result=[]\n",
    "    for letter in letters:\n",
    "        if len(letter) > 4:\n",
    "           result.append(letter)\n",
    "    return result        \n",
    "print(letter_words([\"beautiful\",\"sad\",\"amazing\",\"spectacular\"]))    \n",
    "            \n",
    "            "
   ]
  },
  {
   "cell_type": "code",
   "execution_count": 37,
   "id": "22adf64f-2bc0-4b76-8bc3-16d5de2ccfd1",
   "metadata": {},
   "outputs": [
    {
     "name": "stdout",
     "output_type": "stream",
     "text": [
      "[550, 780, 145]\n"
     ]
    }
   ],
   "source": [
    "def list_prices(prices):\n",
    "    result=[]\n",
    "    for price in prices:\n",
    "        if price > 100:\n",
    "            result.append(price)\n",
    "    return result\n",
    "print(list_prices([40,23,550,780,145,100]))"
   ]
  },
  {
   "cell_type": "code",
   "execution_count": null,
   "id": "ee90d727-ff66-4728-bdb8-89d64c6b5c2b",
   "metadata": {},
   "outputs": [],
   "source": []
  }
 ],
 "metadata": {
  "kernelspec": {
   "display_name": "Python (tf_env)",
   "language": "python",
   "name": "tf_env"
  },
  "language_info": {
   "codemirror_mode": {
    "name": "ipython",
    "version": 3
   },
   "file_extension": ".py",
   "mimetype": "text/x-python",
   "name": "python",
   "nbconvert_exporter": "python",
   "pygments_lexer": "ipython3",
   "version": "3.10.18"
  }
 },
 "nbformat": 4,
 "nbformat_minor": 5
}
